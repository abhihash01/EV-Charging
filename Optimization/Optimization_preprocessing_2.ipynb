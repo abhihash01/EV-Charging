{
  "nbformat": 4,
  "nbformat_minor": 0,
  "metadata": {
    "colab": {
      "provenance": []
    },
    "kernelspec": {
      "name": "python3",
      "display_name": "Python 3"
    },
    "language_info": {
      "name": "python"
    }
  },
  "cells": [
    {
      "cell_type": "code",
      "execution_count": 4,
      "metadata": {
        "id": "TaKI0a0eorQY"
      },
      "outputs": [],
      "source": [
        "import pandas as pd\n",
        "\n",
        "# Read the CSV file into a pandas DataFrame\n",
        "df = pd.read_csv('result_december.csv')\n",
        "\n",
        "# Convert 'time' column to datetime format\n",
        "df['time'] = pd.to_datetime(df['time'])\n",
        "\n",
        "# Filter December 2020 data\n",
        "dec_2020_data = df[(df['time'].dt.year == 2020) & (df['time'].dt.month == 12)]\n",
        "\n",
        "# Save filtered data to a new CSV file with 'power' as column\n",
        "dec_2020_data[['power']].to_csv('dec_2020_power.csv', index=False)\n"
      ]
    },
    {
      "cell_type": "code",
      "source": [
        "import pandas as pd\n",
        "\n",
        "# Read the November 2020 data from CSV\n",
        "nov_2020_df = pd.read_csv('nov_defer.csv')\n",
        "\n",
        "# Read the December 2020 data from CSV\n",
        "dec_2020_df = pd.read_csv('dec_defer.csv')\n",
        "\n",
        "# Combine the data\n",
        "combined_df = pd.concat([nov_2020_df, dec_2020_df], ignore_index=True)\n",
        "\n",
        "# Save the combined data to a new CSV file\n",
        "combined_df.to_csv('novdec_defer.csv', index=False)\n"
      ],
      "metadata": {
        "id": "qvYANK1-s70d"
      },
      "execution_count": 10,
      "outputs": []
    },
    {
      "cell_type": "code",
      "source": [
        "import pandas as pd\n",
        "\n",
        "def extract_data_from_file_1(input_file, output_file, target_month):\n",
        "    df = pd.read_csv(input_file)\n",
        "\n",
        "    # Convert the date column to datetime format\n",
        "    df['Date'] = pd.to_datetime(df['connectionTime'])\n",
        "\n",
        "    # Extracting data for the specified month and year\n",
        "    extracted_data = df[(df['Date'].dt.month != target_month) & (df['Date'].dt.year == 2020)]\n",
        "\n",
        "    # Writing the extracted data to a new file\n",
        "    extracted_data.to_csv(output_file, index=False)\n",
        "\n",
        "def extract_data_from_file_2(input_file, output_file, target_month):\n",
        "    df = pd.read_csv(input_file)\n",
        "\n",
        "    # Convert the date column to datetime format\n",
        "    df['Date'] = pd.to_datetime(df['connectionTime'])\n",
        "\n",
        "    # Extracting data for the specified month and year\n",
        "    extracted_data = df[(df['Date'].dt.month == target_month) & (df['Date'].dt.year == 2020)]\n",
        "\n",
        "    # Writing the extracted data to a new file\n",
        "    extracted_data.to_csv(output_file, index=False)\n",
        "\n",
        "# Paths to the input files\n",
        "file1 = 'jannov.csv'\n",
        "file2 = 'dec.csv'\n",
        "\n",
        "# Extracting all months except December from file1.csv\n",
        "extract_data_from_file_1(file1, 'file1_extracted.csv', 12)\n",
        "\n",
        "# Extracting only December data from file2.csv\n",
        "extract_data_from_file_2(file2, 'file2_extracted.csv', 12)\n",
        "\n",
        "# Concatenate the extracted files\n",
        "concatenated_data = pd.concat([pd.read_csv('file1_extracted.csv'), pd.read_csv('file2_extracted.csv')])\n",
        "concatenated_data.to_csv('jandec.csv', index=False)\n"
      ],
      "metadata": {
        "id": "_gDcF0PqaoVX"
      },
      "execution_count": 7,
      "outputs": []
    },
    {
      "cell_type": "code",
      "source": [
        "import pandas as pd\n",
        "\n",
        "def filter_12th_month(input_file, output_file):\n",
        "    # Read the CSV file\n",
        "    data = pd.read_csv(input_file)\n",
        "\n",
        "    # Convert the time column to datetime format\n",
        "    data['time'] = pd.to_datetime(data['time'])\n",
        "\n",
        "    # Filter to include only records from the 12th month\n",
        "    data_12th_month = data[data['time'].dt.month == 11]\n",
        "\n",
        "    # Save the filtered data to a new CSV file\n",
        "    data_12th_month.to_csv(output_file, index=False)\n",
        "\n",
        "    return output_file\n",
        "\n",
        "# Example usage:\n",
        "input_file = 'jandec_defer.csv'  # Change this to the path of your CSV file\n",
        "output_file = 'nov_defer.csv'  # Output file path for filtered data\n",
        "\n",
        "# Filter the 12th month records and save to a new CSV file\n",
        "filtered_file = filter_12th_month(input_file, output_file)\n",
        "print(f\"Filtered data for the 12th month saved to {filtered_file}\")\n"
      ],
      "metadata": {
        "colab": {
          "base_uri": "https://localhost:8080/"
        },
        "id": "BMAl7uXYm9bK",
        "outputId": "9ae0b2b9-4125-4412-efe1-055d27b54b63"
      },
      "execution_count": 9,
      "outputs": [
        {
          "output_type": "stream",
          "name": "stdout",
          "text": [
            "Filtered data for the 12th month saved to nov_defer.csv\n"
          ]
        }
      ]
    },
    {
      "cell_type": "code",
      "source": [
        "import pandas as pd\n",
        "\n",
        "# Load the first file\n",
        "df1 = pd.read_csv(\"/content/nov_2020_power.csv\")\n",
        "\n",
        "# Load the second file\n",
        "df2 = pd.read_csv(\"/content/GradientBoostingRegressor_backfill_features.csv\")\n",
        "\n",
        "# Create a new DataFrame with a column 'power' containing values from df1['power'] followed by df2['predicted']\n",
        "nov_dec_predicted = pd.DataFrame({\n",
        "    'power': pd.concat([df1['power'], df2['Predicted']], ignore_index=True)\n",
        "})\n",
        "\n",
        "# Save the new DataFrame to a CSV file\n",
        "nov_dec_predicted.to_csv(\"nov_dec_predicted.csv\", index=False)\n"
      ],
      "metadata": {
        "id": "mlS-uMN93J05"
      },
      "execution_count": 6,
      "outputs": []
    }
  ]
}